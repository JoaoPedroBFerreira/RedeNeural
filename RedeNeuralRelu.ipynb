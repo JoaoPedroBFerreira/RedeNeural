{
  "nbformat": 4,
  "nbformat_minor": 0,
  "metadata": {
    "colab": {
      "provenance": [],
      "include_colab_link": true
    },
    "kernelspec": {
      "name": "python3",
      "display_name": "Python 3"
    },
    "language_info": {
      "name": "python"
    }
  },
  "cells": [
    {
      "cell_type": "markdown",
      "metadata": {
        "id": "view-in-github",
        "colab_type": "text"
      },
      "source": [
        "<a href=\"https://colab.research.google.com/github/JoaoPedroBFerreira/RedeNeural/blob/main/RedeNeuralRelu.ipynb\" target=\"_parent\"><img src=\"https://colab.research.google.com/assets/colab-badge.svg\" alt=\"Open In Colab\"/></a>"
      ]
    },
    {
      "cell_type": "markdown",
      "source": [
        "Código equivalente ao código anterior, mas agora com uma rede neural de duas camadas, onde cada camada tem um neurônio. A primeira camada recebe as entradas, e a segunda camada recebe a saída da primeira camada como entrada. Vamos usar o mesmo dataset fictício (problema XOR) e permitir a escolha de funções de ativação."
      ],
      "metadata": {
        "id": "ytVHkVA7UMoJ"
      }
    },
    {
      "cell_type": "markdown",
      "source": [
        "Nomes : João Pedro Boanerges Ferreira e Henrique Costa Gomes -\n",
        "Matriculas : 202210700 e 202210908\n"
      ],
      "metadata": {
        "id": "t2ZW2C3-8bTj"
      }
    },
    {
      "cell_type": "code",
      "source": [
        "import numpy as np\n",
        "import matplotlib.pyplot as plt\n",
        "\n",
        "# Funções de ativação\n",
        "def sigmoid(x):\n",
        "    return 1 / (1 + np.exp(-x))\n",
        "\n",
        "def relu(x):\n",
        "    return np.maximum(0, x)\n",
        "\n",
        "def tanh(x):\n",
        "    return np.tanh(x)\n",
        "\n",
        "# Derivadas das funções de ativação (para o gradiente)\n",
        "def sigmoid_derivative(x):\n",
        "    return sigmoid(x) * (1 - sigmoid(x))\n",
        "\n",
        "def relu_derivative(x):\n",
        "    return np.where(x > 0, 1, 0)\n",
        "\n",
        "def tanh_derivative(x):\n",
        "    return 1 - np.tanh(x)**2\n",
        "\n",
        "# Dataset fictício (peso e altura como entradas, gênero como saída)\n",
        "X = np.array([[0.70, 0.875], [0.60, 0.8], [0.80, 0.925], [0.50, 0.775]])  # Entradas: Peso e Altura\n",
        "y = np.array([[1], [0], [1], [0]])  # Saída: Gênero (1 para Masculino, 0 para Feminino)\n",
        "\n",
        "# Hiperparâmetros\n",
        "learning_rate = 0.1\n",
        "epochs = 10000\n",
        "\n",
        "# Inicialização dos pesos e viés\n",
        "np.random.seed(42)\n",
        "# Camada 1: 2 entradas -> 1 neurônio\n",
        "weights_1 = np.random.randn(2, 1)\n",
        "bias_1 = np.random.randn()\n",
        "\n",
        "# Camada 2: 1 entrada (saída da camada 1) -> 1 neurônio\n",
        "weights_2 = np.random.randn(1, 1)\n",
        "bias_2 = np.random.randn()\n",
        "\n",
        "# Escolha da função de ativação\n",
        "activation_function = relu\n",
        "activation_derivative = relu_derivative\n",
        "\n",
        "# Treinamento da rede\n",
        "errors = []\n",
        "for epoch in range(epochs):\n",
        "    # Forward pass\n",
        "    # Camada 1\n",
        "    weighted_sum_1 = np.dot(X, weights_1) + bias_1\n",
        "    output_1 = activation_function(weighted_sum_1)\n",
        "\n",
        "    # Camada 2\n",
        "    weighted_sum_2 = np.dot(output_1, weights_2) + bias_2\n",
        "    output_2 = activation_function(weighted_sum_2)\n",
        "\n",
        "    # Cálculo do erro (erro quadrático médio)\n",
        "    error = y - output_2\n",
        "    errors.append(np.mean(np.square(error)))\n",
        "\n",
        "    # Backpropagation\n",
        "    # Gradiente da camada 2\n",
        "    d_error = -2 * error / len(X)\n",
        "    d_output_2 = activation_derivative(weighted_sum_2)\n",
        "    gradient_2 = d_error * d_output_2\n",
        "\n",
        "    # Gradiente da camada 1\n",
        "    d_output_1 = activation_derivative(weighted_sum_1)\n",
        "    gradient_1 = np.dot(gradient_2, weights_2.T) * d_output_1\n",
        "\n",
        "    # Atualização dos pesos e viés\n",
        "    weights_2 -= learning_rate * np.dot(output_1.T, gradient_2)\n",
        "    bias_2 -= learning_rate * np.sum(gradient_2)\n",
        "\n",
        "    weights_1 -= learning_rate * np.dot(X.T, gradient_1)\n",
        "    bias_1 -= learning_rate * np.sum(gradient_1)\n",
        "\n",
        "    # Exibir progresso a cada 1000 épocas\n",
        "    if epoch % 1000 == 0:\n",
        "        print(f\"Época {epoch}, Erro: {errors[-1]}\")\n"
      ],
      "metadata": {
        "id": "egTUSccKUTWp",
        "colab": {
          "base_uri": "https://localhost:8080/"
        },
        "outputId": "2297e195-dabe-4394-b93d-a067cb42f227"
      },
      "execution_count": 16,
      "outputs": [
        {
          "output_type": "stream",
          "name": "stdout",
          "text": [
            "Época 0, Erro: 0.5121670095585298\n",
            "Época 1000, Erro: 0.04495621162664766\n",
            "Época 2000, Erro: 0.038374920493511475\n",
            "Época 3000, Erro: 0.037048465463583924\n",
            "Época 4000, Erro: 0.03784904545886104\n",
            "Época 5000, Erro: 0.037264230653957696\n",
            "Época 6000, Erro: 0.03621354048011842\n",
            "Época 7000, Erro: 0.035835144018546525\n",
            "Época 8000, Erro: 0.03541327333016113\n",
            "Época 9000, Erro: 0.03493199790752953\n"
          ]
        }
      ]
    },
    {
      "cell_type": "code",
      "source": [
        "# Plot do erro ao longo do treinamento\n",
        "plt.plot(range(epochs), errors)\n",
        "plt.title(\"Erro ao longo do treinamento\")\n",
        "plt.xlabel(\"Época\")\n",
        "plt.ylabel(\"Erro\")\n",
        "plt.show()\n",
        "\n",
        "# Teste da rede treinada\n",
        "print(\"\\nTeste da rede treinada:\")\n",
        "for i in range(len(X)):\n",
        "    # Forward pass\n",
        "    weighted_sum_1 = np.dot(X[i], weights_1) + bias_1\n",
        "    output_1 = activation_function(weighted_sum_1)\n",
        "\n",
        "    weighted_sum_2 = np.dot(output_1, weights_2) + bias_2\n",
        "    output_2 = activation_function(weighted_sum_2)\n",
        "\n",
        "    print(f\"Entrada: {X[i]}, Saída esperada: {y[i]}, Saída da rede: {output_2}\")"
      ],
      "metadata": {
        "id": "_ABiebIyUrdo",
        "colab": {
          "base_uri": "https://localhost:8080/",
          "height": 578
        },
        "outputId": "5d0578db-d456-40a9-8029-d18e2520ade7"
      },
      "execution_count": 17,
      "outputs": [
        {
          "output_type": "display_data",
          "data": {
            "text/plain": [
              "<Figure size 640x480 with 1 Axes>"
            ],
            "image/png": "[encoded data removed]"
          },
          "metadata": {}
        },
        {
          "output_type": "stream",
          "name": "stdout",
          "text": [
            "\n",
            "Teste da rede treinada:\n",
            "Entrada: [0.7   0.875], Saída esperada: [1], Saída da rede: [0.80637493]\n",
            "Entrada: [0.6 0.8], Saída esperada: [0], Saída da rede: [0.21476812]\n",
            "Entrada: [0.8   0.925], Saída esperada: [1], Saída da rede: [1.23295954]\n",
            "Entrada: [0.5   0.775], Saída esperada: [0], Saída da rede: [0.]\n"
          ]
        }
      ]
    }
  ]
}